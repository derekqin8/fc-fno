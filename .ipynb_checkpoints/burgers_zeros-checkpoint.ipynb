{
  "nbformat": 4,
  "nbformat_minor": 0,
  "metadata": {
    "colab": {
      "name": "burgers-zeros",
      "provenance": [],
      "collapsed_sections": [],
      "toc_visible": true
    },
    "kernelspec": {
      "name": "python3",
      "display_name": "Python 3"
    },
    "language_info": {
      "name": "python"
    },
    "accelerator": "GPU"
  },
  "cells": [
    {
      "cell_type": "markdown",
      "metadata": {
        "id": "aBiQBlY2T4sr"
      },
      "source": [
        "# Setup\n",
        "\n"
      ]
    },
    {
      "cell_type": "code",
      "metadata": {
        "id": "4jqzpckgoZ94"
      },
      "source": [
        "from __future__ import print_function\n",
        "import argparse\n",
        "import torch\n",
        "import torch.nn as nn\n",
        "import torch.nn.functional as F\n",
        "import torch.optim as optim\n",
        "from torchvision import datasets, transforms\n",
        "from torch.autograd import Variable\n",
        "import operator\n",
        "from functools import reduce\n",
        "from functools import partial\n",
        "\n",
        "import time\n",
        "import matplotlib.pyplot as plt"
      ],
      "execution_count": null,
      "outputs": []
    },
    {
      "cell_type": "code",
      "metadata": {
        "id": "cKf1W7oGWxeE"
      },
      "source": [
        "import torch\n",
        "import numpy as np\n",
        "import scipy.io\n",
        "import h5py\n",
        "import torch.nn as nn\n",
        "\n",
        "import operator\n",
        "from functools import reduce\n",
        "from functools import partial\n",
        "\n",
        "#################################################\n",
        "#\n",
        "# Utilities\n",
        "#\n",
        "#################################################\n",
        "device = torch.device('cuda' if torch.cuda.is_available() else 'cpu')\n",
        "\n",
        "# reading data\n",
        "class MatReader(object):\n",
        "    def __init__(self, file_path, to_torch=True, to_cuda=False, to_float=True):\n",
        "        super(MatReader, self).__init__()\n",
        "\n",
        "        self.to_torch = to_torch\n",
        "        self.to_cuda = to_cuda\n",
        "        self.to_float = to_float\n",
        "\n",
        "        self.file_path = file_path\n",
        "\n",
        "        self.data = None\n",
        "        self.old_mat = None\n",
        "        self._load_file()\n",
        "\n",
        "    def _load_file(self):\n",
        "        self.data = scipy.io.loadmat(self.file_path)\n",
        "        self.old_mat = True\n",
        "        # try:\n",
        "        #     self.data = scipy.io.loadmat(self.file_path)\n",
        "        #     self.old_mat = True\n",
        "        # # except:\n",
        "        # #     self.data = h5py.File(self.file_path)\n",
        "        # #     self.old_mat = False\n",
        "\n",
        "    def load_file(self, file_path):\n",
        "        self.file_path = file_path\n",
        "        self._load_file()\n",
        "\n",
        "    def read_field(self, field):\n",
        "        x = self.data[field]\n",
        "\n",
        "        if not self.old_mat:\n",
        "            x = x[()]\n",
        "            x = np.transpose(x, axes=range(len(x.shape) - 1, -1, -1))\n",
        "\n",
        "        if self.to_float:\n",
        "            x = x.astype(np.float32)\n",
        "\n",
        "        if self.to_torch:\n",
        "            x = torch.from_numpy(x)\n",
        "\n",
        "            if self.to_cuda:\n",
        "                x = x.cuda()\n",
        "\n",
        "        return x\n",
        "\n",
        "    def set_cuda(self, to_cuda):\n",
        "        self.to_cuda = to_cuda\n",
        "\n",
        "    def set_torch(self, to_torch):\n",
        "        self.to_torch = to_torch\n",
        "\n",
        "    def set_float(self, to_float):\n",
        "        self.to_float = to_float\n",
        "\n",
        "# normalization, pointwise gaussian\n",
        "class UnitGaussianNormalizer(object):\n",
        "    def __init__(self, x, eps=0.00001):\n",
        "        super(UnitGaussianNormalizer, self).__init__()\n",
        "\n",
        "        # x could be in shape of ntrain*n or ntrain*T*n or ntrain*n*T\n",
        "        self.mean = torch.mean(x, 0)\n",
        "        self.std = torch.std(x, 0)\n",
        "        self.eps = eps\n",
        "\n",
        "    def encode(self, x):\n",
        "        x = (x - self.mean) / (self.std + self.eps)\n",
        "        return x\n",
        "\n",
        "    def decode(self, x, sample_idx=None):\n",
        "        if sample_idx is None:\n",
        "            std = self.std + self.eps # n\n",
        "            mean = self.mean\n",
        "        else:\n",
        "            if len(self.mean.shape) == len(sample_idx[0].shape):\n",
        "                std = self.std[sample_idx] + self.eps  # batch*n\n",
        "                mean = self.mean[sample_idx]\n",
        "            if len(self.mean.shape) > len(sample_idx[0].shape):\n",
        "                std = self.std[:,sample_idx]+ self.eps # T*batch*n\n",
        "                mean = self.mean[:,sample_idx]\n",
        "\n",
        "        # x is in shape of batch*n or T*batch*n\n",
        "        x = (x * std) + mean\n",
        "        return x\n",
        "\n",
        "    def cuda(self):\n",
        "        self.mean = self.mean.cuda()\n",
        "        self.std = self.std.cuda()\n",
        "\n",
        "    def cpu(self):\n",
        "        self.mean = self.mean.cpu()\n",
        "        self.std = self.std.cpu()\n",
        "\n",
        "# normalization, Gaussian\n",
        "class GaussianNormalizer(object):\n",
        "    def __init__(self, x, eps=0.00001):\n",
        "        super(GaussianNormalizer, self).__init__()\n",
        "\n",
        "        self.mean = torch.mean(x)\n",
        "        self.std = torch.std(x)\n",
        "        self.eps = eps\n",
        "\n",
        "    def encode(self, x):\n",
        "        x = (x - self.mean) / (self.std + self.eps)\n",
        "        return x\n",
        "\n",
        "    def decode(self, x, sample_idx=None):\n",
        "        x = (x * (self.std + self.eps)) + self.mean\n",
        "        return x\n",
        "\n",
        "    def cuda(self):\n",
        "        self.mean = self.mean.cuda()\n",
        "        self.std = self.std.cuda()\n",
        "\n",
        "    def cpu(self):\n",
        "        self.mean = self.mean.cpu()\n",
        "        self.std = self.std.cpu()\n",
        "\n",
        "\n",
        "# normalization, scaling by range\n",
        "class RangeNormalizer(object):\n",
        "    def __init__(self, x, low=0.0, high=1.0):\n",
        "        super(RangeNormalizer, self).__init__()\n",
        "        mymin = torch.min(x, 0)[0].view(-1)\n",
        "        mymax = torch.max(x, 0)[0].view(-1)\n",
        "\n",
        "        self.a = (high - low)/(mymax - mymin)\n",
        "        self.b = -self.a*mymax + high\n",
        "\n",
        "    def encode(self, x):\n",
        "        s = x.size()\n",
        "        x = x.view(s[0], -1)\n",
        "        x = self.a*x + self.b\n",
        "        x = x.view(s)\n",
        "        return x\n",
        "\n",
        "    def decode(self, x):\n",
        "        s = x.size()\n",
        "        x = x.view(s[0], -1)\n",
        "        x = (x - self.b)/self.a\n",
        "        x = x.view(s)\n",
        "        return x\n",
        "\n",
        "#loss function with rel/abs Lp loss\n",
        "class LpLoss(object):\n",
        "    def __init__(self, d=2, p=2, size_average=True, reduction=True):\n",
        "        super(LpLoss, self).__init__()\n",
        "\n",
        "        #Dimension and Lp-norm type are postive\n",
        "        assert d > 0 and p > 0\n",
        "\n",
        "        self.d = d\n",
        "        self.p = p\n",
        "        self.reduction = reduction\n",
        "        self.size_average = size_average\n",
        "\n",
        "    def abs(self, x, y):\n",
        "        num_examples = x.size()[0]\n",
        "\n",
        "        #Assume uniform mesh\n",
        "        h = 1.0 / (x.size()[1] - 1.0)\n",
        "\n",
        "        all_norms = (h**(self.d/self.p))*torch.norm(x.view(num_examples,-1) - y.view(num_examples,-1), self.p, 1)\n",
        "\n",
        "        if self.reduction:\n",
        "            if self.size_average:\n",
        "                return torch.mean(all_norms)\n",
        "            else:\n",
        "                return torch.sum(all_norms)\n",
        "\n",
        "        return all_norms\n",
        "\n",
        "    def rel(self, x, y):\n",
        "        num_examples = x.size()[0]\n",
        "\n",
        "        diff_norms = torch.norm(x.reshape(num_examples,-1) - y.reshape(num_examples,-1), self.p, 1)\n",
        "        y_norms = torch.norm(y.reshape(num_examples,-1), self.p, 1)\n",
        "\n",
        "        if self.reduction:\n",
        "            if self.size_average:\n",
        "                return torch.mean(diff_norms/y_norms)\n",
        "            else:\n",
        "                return torch.sum(diff_norms/y_norms)\n",
        "\n",
        "        return diff_norms/y_norms\n",
        "\n",
        "    def __call__(self, x, y):\n",
        "        return self.rel(x, y)\n",
        "\n",
        "# Sobolev norm (HS norm)\n",
        "# where we also compare the numerical derivatives between the output and target\n",
        "class HsLoss(object):\n",
        "    def __init__(self, d=2, p=2, k=1, a=None, group=False, size_average=True, reduction=True):\n",
        "        super(HsLoss, self).__init__()\n",
        "\n",
        "        #Dimension and Lp-norm type are postive\n",
        "        assert d > 0 and p > 0\n",
        "\n",
        "        self.d = d\n",
        "        self.p = p\n",
        "        self.k = k\n",
        "        self.balanced = group\n",
        "        self.reduction = reduction\n",
        "        self.size_average = size_average\n",
        "\n",
        "        if a == None:\n",
        "            a = [1,] * k\n",
        "        self.a = a\n",
        "\n",
        "    def rel(self, x, y):\n",
        "        num_examples = x.size()[0]\n",
        "        diff_norms = torch.norm(x.reshape(num_examples,-1) - y.reshape(num_examples,-1), self.p, 1)\n",
        "        y_norms = torch.norm(y.reshape(num_examples,-1), self.p, 1)\n",
        "        if self.reduction:\n",
        "            if self.size_average:\n",
        "                return torch.mean(diff_norms/y_norms)\n",
        "            else:\n",
        "                return torch.sum(diff_norms/y_norms)\n",
        "        return diff_norms/y_norms\n",
        "\n",
        "    def __call__(self, x, y, a=None):\n",
        "        nx = x.size()[1]\n",
        "        ny = x.size()[2]\n",
        "        k = self.k\n",
        "        balanced = self.balanced\n",
        "        a = self.a\n",
        "        x = x.view(x.shape[0], nx, ny, -1)\n",
        "        y = y.view(y.shape[0], nx, ny, -1)\n",
        "\n",
        "        k_x = torch.cat((torch.arange(start=0, end=nx//2, step=1),torch.arange(start=-nx//2, end=0, step=1)), 0).reshape(nx,1).repeat(1,ny)\n",
        "        k_y = torch.cat((torch.arange(start=0, end=ny//2, step=1),torch.arange(start=-ny//2, end=0, step=1)), 0).reshape(1,ny).repeat(nx,1)\n",
        "        k_x = torch.abs(k_x).reshape(1,nx,ny,1).to(x.device)\n",
        "        k_y = torch.abs(k_y).reshape(1,nx,ny,1).to(x.device)\n",
        "\n",
        "        x = torch.fft.fftn(x, dim=[1, 2])\n",
        "        y = torch.fft.fftn(y, dim=[1, 2])\n",
        "\n",
        "        if balanced==False:\n",
        "            weight = 1\n",
        "            if k >= 1:\n",
        "                weight += a[0]**2 * (k_x**2 + k_y**2)\n",
        "            if k >= 2:\n",
        "                weight += a[1]**2 * (k_x**4 + 2*k_x**2*k_y**2 + k_y**4)\n",
        "            weight = torch.sqrt(weight)\n",
        "            loss = self.rel(x*weight, y*weight)\n",
        "        else:\n",
        "            loss = self.rel(x, y)\n",
        "            if k >= 1:\n",
        "                weight = a[0] * torch.sqrt(k_x**2 + k_y**2)\n",
        "                loss += self.rel(x*weight, y*weight)\n",
        "            if k >= 2:\n",
        "                weight = a[1] * torch.sqrt(k_x**4 + 2*k_x**2*k_y**2 + k_y**4)\n",
        "                loss += self.rel(x*weight, y*weight)\n",
        "            loss = loss / (k+1)\n",
        "\n",
        "        return loss\n",
        "\n",
        "# A simple feedforward neural network\n",
        "class DenseNet(torch.nn.Module):\n",
        "    def __init__(self, layers, nonlinearity, out_nonlinearity=None, normalize=False):\n",
        "        super(DenseNet, self).__init__()\n",
        "\n",
        "        self.n_layers = len(layers) - 1\n",
        "\n",
        "        assert self.n_layers >= 1\n",
        "\n",
        "        self.layers = nn.ModuleList()\n",
        "\n",
        "        for j in range(self.n_layers):\n",
        "            self.layers.append(nn.Linear(layers[j], layers[j+1]))\n",
        "\n",
        "            if j != self.n_layers - 1:\n",
        "                if normalize:\n",
        "                    self.layers.append(nn.BatchNorm1d(layers[j+1]))\n",
        "\n",
        "                self.layers.append(nonlinearity())\n",
        "\n",
        "        if out_nonlinearity is not None:\n",
        "            self.layers.append(out_nonlinearity())\n",
        "\n",
        "    def forward(self, x):\n",
        "        for _, l in enumerate(self.layers):\n",
        "            x = l(x)\n",
        "\n",
        "        return x\n",
        "\n",
        "\n",
        "# print the number of parameters\n",
        "def count_params(model):\n",
        "    c = 0\n",
        "    for p in list(model.parameters()):\n",
        "        c += reduce(operator.mul, list(p.size()))\n",
        "    return c"
      ],
      "execution_count": null,
      "outputs": []
    },
    {
      "cell_type": "code",
      "metadata": {
        "id": "aiiDA5CRVm9V"
      },
      "source": [
        "def compl_mul2d(a, b):\n",
        "    # (batch, in_channel, x,y,t ), (in_channel, out_channel, x,y,t) -> (batch, out_channel, x,y,t)\n",
        "    return torch.einsum(\"bixy,ioxy->boxy\", a, b)\n",
        "\n",
        "class LowRank2d(nn.Module):\n",
        "    def __init__(self, in_channels, out_channels):\n",
        "        super(LowRank2d, self).__init__()\n",
        "        self.in_channels = in_channels\n",
        "        self.out_channels = out_channels\n",
        "\n",
        "        self.phi = DenseNet([2, 64, 128, in_channels*out_channels], torch.nn.ReLU)\n",
        "        self.psi = DenseNet([2, 64, 128, in_channels*out_channels], torch.nn.ReLU)\n",
        "\n",
        "    def get_grid(self, S1, S2, batchsize, device):\n",
        "        gridx = torch.tensor(np.linspace(0, 1, S1), dtype=torch.float)\n",
        "        gridx = gridx.reshape(1, S1, 1).repeat([batchsize, 1, S2])\n",
        "        gridy = torch.tensor(np.linspace(0, 1, S2), dtype=torch.float)\n",
        "        gridy = gridy.reshape(1, 1, S2).repeat([batchsize, S1, 1])\n",
        "        return torch.stack((gridx, gridy), dim=-1).to(device)\n",
        "\n",
        "    def forward(self, x, gridy=None):\n",
        "        # x (batch, channel, x, y)\n",
        "        # y (Ny, 2)\n",
        "        batchsize, size1, size2 = x.shape[0], x.shape[2], x.shape[3]\n",
        "\n",
        "        gridx = self.get_grid(S1=size1, S2=size2, batchsize=1, device=x.device).reshape(size1 * size2, 2)\n",
        "        if gridy==None:\n",
        "            gridy = self.get_grid(S1=size1, S2=size2, batchsize=1, device=x.device).reshape(size1 * size2, 2)\n",
        "        Nx = size1 * size2\n",
        "        Ny = gridy.shape[0]\n",
        "\n",
        "        phi_eval = self.phi(gridx).reshape(Nx, self.out_channels, self.in_channels)\n",
        "        psi_eval = self.psi(gridy).reshape(Ny, self.out_channels, self.in_channels)\n",
        "        x = x.reshape(batchsize, self.in_channels, Nx)\n",
        "\n",
        "        x = torch.einsum('noi,bin,moi->bom', phi_eval, x, psi_eval) / Nx\n",
        "        return x"
      ],
      "execution_count": null,
      "outputs": []
    },
    {
      "cell_type": "code",
      "metadata": {
        "id": "bTUrtFcnV6zx"
      },
      "source": [
        "class SpectralConv2d(nn.Module):\n",
        "    def __init__(self, in_channels, out_channels, modes1, modes2):\n",
        "        super(SpectralConv2d, self).__init__()\n",
        "        self.in_channels = in_channels\n",
        "        self.out_channels = out_channels\n",
        "        self.modes1 = modes1 #Number of Fourier modes to multiply, at most floor(N/2) + 1\n",
        "        self.modes2 = modes2\n",
        "\n",
        "        self.scale = (1 / (in_channels * out_channels))\n",
        "        self.weights1 = nn.Parameter(self.scale * torch.rand(in_channels, out_channels, self.modes1, self.modes2, dtype=torch.cfloat))\n",
        "        self.weights2 = nn.Parameter(self.scale * torch.rand(in_channels, out_channels, self.modes1, self.modes2, dtype=torch.cfloat))\n",
        "\n",
        "    def forward(self, x, size=None):\n",
        "\n",
        "        if size==None:\n",
        "            size = (x.size(2), x.size(3))\n",
        "\n",
        "        batchsize = x.shape[0]\n",
        "        #Compute Fourier coeffcients up to factor of e^(- something constant)\n",
        "        x_ft = torch.fft.rfftn(x, dim=[2,3])\n",
        "\n",
        "        # Multiply relevant Fourier modes\n",
        "        out_ft = torch.zeros(batchsize, self.out_channels, size[0], size[1]//2 + 1, device=x.device, dtype=torch.cfloat)\n",
        "        out_ft[:, :, :self.modes1, :self.modes2] = \\\n",
        "            compl_mul2d(x_ft[:, :, :self.modes1, :self.modes2], self.weights1)\n",
        "        out_ft[:, :, -self.modes1:, :self.modes2] = \\\n",
        "            compl_mul2d(x_ft[:, :, -self.modes1:, :self.modes2], self.weights2)\n",
        "\n",
        "        #Return to physical space\n",
        "        x = torch.fft.irfftn(out_ft, s=(size[0], size[1]), dim=[2,3])\n",
        "\n",
        "        return x"
      ],
      "execution_count": null,
      "outputs": []
    },
    {
      "cell_type": "code",
      "metadata": {
        "id": "34KgqpWEV2SR"
      },
      "source": [
        "class SimpleBlock2d(nn.Module):\n",
        "    def __init__(self, modes1, modes2, width, in_dim=3, out_dim=1):\n",
        "        super(SimpleBlock2d, self).__init__()\n",
        "\n",
        "        self.modes1 = modes1\n",
        "        self.modes2 = modes2\n",
        "\n",
        "        self.width_list = [width*2//4, width*3//4, width*4//4, width*4//4, width*5//4]\n",
        "\n",
        "        self.fc0 = nn.Linear(in_dim, self.width_list[0])\n",
        "\n",
        "        self.conv0 = SpectralConv2d(\n",
        "            self.width_list[0], self.width_list[1],\n",
        "            self.modes1*4//4, self.modes2*4//4\n",
        "        )\n",
        "        self.conv1 = SpectralConv2d(self.width_list[1], self.width_list[2], self.modes1*3//4, self.modes2*3//4)\n",
        "        self.conv2 = SpectralConv2d(self.width_list[2], self.width_list[3], self.modes1*2//4, self.modes2*2//4)\n",
        "        self.conv3 = SpectralConv2d(self.width_list[3], self.width_list[4], self.modes1*1//4, self.modes2*1//4)\n",
        "        self.w0 = nn.Conv1d(self.width_list[0], self.width_list[1], 1)\n",
        "        self.w1 = nn.Conv1d(self.width_list[1], self.width_list[2], 1)\n",
        "        self.w2 = nn.Conv1d(self.width_list[2], self.width_list[3], 1)\n",
        "        self.w3 = nn.Conv1d(self.width_list[3], self.width_list[4], 1)\n",
        "        self.k3 = LowRank2d(self.width_list[3], self.width_list[4])\n",
        "\n",
        "        self.fc1 = nn.Linear(self.width_list[4], self.width_list[4]*2)\n",
        "        # self.fc2 = nn.Linear(self.width_list[4]*2, self.width_list[4]*2)\n",
        "        self.fc3 = nn.Linear(self.width_list[4]*2, out_dim)\n",
        "\n",
        "    def forward(self, x, sub=1):\n",
        "\n",
        "        batchsize = x.shape[0]\n",
        "        size_x, size_y = x.shape[1], x.shape[2]\n",
        "        size = (size_x*sub, size_y*sub)\n",
        "\n",
        "        x = self.fc0(x)\n",
        "        x = x.permute(0, 3, 1, 2)\n",
        "\n",
        "        x1 = self.conv0(x)\n",
        "        x2 = self.w0(x.view(batchsize, self.width_list[0], size_x*size_y)).view(batchsize, self.width_list[1], size_x, size_y)\n",
        "        # x2 = F.interpolate(x2, size=size_list[1], mode='bilinear')\n",
        "        x = x1 + x2\n",
        "        x = F.elu(x)\n",
        "\n",
        "        x1 = self.conv1(x)\n",
        "        x2 = self.w1(x.view(batchsize, self.width_list[1], size_x*size_y)).view(batchsize, self.width_list[2], size_x, size_y)\n",
        "        # x2 = F.interpolate(x2, size=size_list[2], mode='bilinear')\n",
        "        x = x1 + x2\n",
        "        x = F.elu(x)\n",
        "\n",
        "        x1 = self.conv2(x)\n",
        "        x2 = self.w2(x.view(batchsize, self.width_list[2], size_x*size_y)).view(batchsize, self.width_list[3], size_x, size_y)\n",
        "        # x2 = F.interpolate(x2, size=size_list[3], mode='bilinear')\n",
        "        x = x1 + x2\n",
        "        x = F.elu(x)\n",
        "\n",
        "        x1 = self.conv3(x, size)\n",
        "        x2 = self.w3(x.view(batchsize, self.width_list[3], size_x*size_y)).view(batchsize, self.width_list[4], size_x, size_y)\n",
        "        # x2 = self.k3(x).reshape(batchsize, self.width_list[4], size_x, size_y)\n",
        "        # x2 = F.interpolate(x2, size=size, mode='bilinear')\n",
        "        x = x1 + x2\n",
        "\n",
        "        x = x.permute(0, 2, 3, 1)\n",
        "        x = self.fc1(x)\n",
        "        x = F.elu(x)\n",
        "        x = self.fc3(x)\n",
        "        return x\n",
        "\n",
        "    def get_grid(self, S, batchsize, device):\n",
        "        gridx = torch.tensor(np.linspace(0, 1, S), dtype=torch.float)\n",
        "        gridx = gridx.reshape(1, 1, S, 1).repeat([batchsize, 1, 1, S])\n",
        "        gridy = torch.tensor(np.linspace(0, 1, S), dtype=torch.float)\n",
        "        gridy = gridy.reshape(1, 1, 1, S).repeat([batchsize, 1, S, 1])\n",
        "\n",
        "        return torch.cat((gridx, gridy), dim=1).to(device)"
      ],
      "execution_count": null,
      "outputs": []
    },
    {
      "cell_type": "code",
      "metadata": {
        "id": "eaaCnlKNVv-t"
      },
      "source": [
        "class Net2d(nn.Module):\n",
        "    def __init__(self, modes, width):\n",
        "        super(Net2d, self).__init__()\n",
        "\n",
        "        self.conv1 = SimpleBlock2d(modes, modes,  width)\n",
        "\n",
        "\n",
        "    def forward(self, x, sub=1):\n",
        "        x = self.conv1(x, sub)\n",
        "        return x\n",
        "\n",
        "\n",
        "    def count_params(self):\n",
        "        c = 0\n",
        "        for p in self.parameters():\n",
        "            c += reduce(operator.mul, list(p.size()))\n",
        "\n",
        "        return c"
      ],
      "execution_count": null,
      "outputs": []
    },
    {
      "cell_type": "code",
      "metadata": {
        "id": "E_PWStPmVrPQ"
      },
      "source": [
        "class FNO2d(nn.Module):\n",
        "    def __init__(self, modes1, modes2,  width):\n",
        "        super(FNO2d, self).__init__()\n",
        "\n",
        "        \"\"\"\n",
        "        The overall network. It contains 4 layers of the Fourier layer.\n",
        "        1. Lift the input to the desire channel dimension by self.fc0 .\n",
        "        2. 4 layers of the integral operators u' = (W + K)(u).\n",
        "            W defined by self.w; K defined by self.conv .\n",
        "        3. Project from the channel space to the output space by self.fc1 and self.fc2 .\n",
        "        \n",
        "        input: the solution of the coefficient function and locations (a(x, y), x, y)\n",
        "        input shape: (batchsize, x=s, y=s, c=3)\n",
        "        output: the solution \n",
        "        output shape: (batchsize, x=s, y=s, c=1)\n",
        "        \"\"\"\n",
        "\n",
        "        self.modes1 = modes1\n",
        "        self.modes2 = modes2\n",
        "        self.width = width\n",
        "        self.fc0 = nn.Linear(3, self.width) # input channel is 3: (a(x, y), x, y)\n",
        "\n",
        "        self.conv0 = SpectralConv2d(self.width, self.width, self.modes1, self.modes2)\n",
        "        self.conv1 = SpectralConv2d(self.width, self.width, self.modes1, self.modes2)\n",
        "        self.conv2 = SpectralConv2d(self.width, self.width, self.modes1, self.modes2)\n",
        "        self.conv3 = SpectralConv2d(self.width, self.width, self.modes1, self.modes2)\n",
        "        self.w0 = nn.Conv1d(self.width, self.width, 1)\n",
        "        self.w1 = nn.Conv1d(self.width, self.width, 1)\n",
        "        self.w2 = nn.Conv1d(self.width, self.width, 1)\n",
        "        self.w3 = nn.Conv1d(self.width, self.width, 1)\n",
        "\n",
        "\n",
        "        self.fc1 = nn.Linear(self.width, 128)\n",
        "        self.fc2 = nn.Linear(128, 1)\n",
        "\n",
        "    def forward(self, x):\n",
        "        batchsize = x.shape[0]\n",
        "        size_x, size_y = x.shape[1], x.shape[2]\n",
        "\n",
        "        x = self.fc0(x)\n",
        "        x = x.permute(0, 3, 1, 2)\n",
        "\n",
        "        x1 = self.conv0(x)\n",
        "        x2 = self.w0(x.view(batchsize, self.width, -1)).view(batchsize, self.width, size_x, size_y)\n",
        "        x = x1 + x2\n",
        "        x = F.relu(x)\n",
        "\n",
        "        x1 = self.conv1(x)\n",
        "        x2 = self.w1(x.view(batchsize, self.width, -1)).view(batchsize, self.width, size_x, size_y)\n",
        "        x = x1 + x2\n",
        "        x = F.relu(x)\n",
        "\n",
        "        x1 = self.conv2(x)\n",
        "        x2 = self.w2(x.view(batchsize, self.width, -1)).view(batchsize, self.width, size_x, size_y)\n",
        "        x = x1 + x2\n",
        "        x = F.relu(x)\n",
        "\n",
        "        x1 = self.conv3(x)\n",
        "        x2 = self.w3(x.view(batchsize, self.width, -1)).view(batchsize, self.width, size_x, size_y)\n",
        "        x = x1 + x2\n",
        "\n",
        "        x = x.permute(0, 2, 3, 1)\n",
        "        x = self.fc1(x)\n",
        "        x = F.relu(x)\n",
        "        x = self.fc2(x)\n",
        "        return x"
      ],
      "execution_count": null,
      "outputs": []
    },
    {
      "cell_type": "markdown",
      "metadata": {
        "id": "Vj9GqospUR-f"
      },
      "source": [
        "# Parameters"
      ]
    },
    {
      "cell_type": "code",
      "metadata": {
        "id": "jsgBEPw7V-MK"
      },
      "source": [
        "ntrain = 1024\n",
        "ntest = 2048-ntrain\n",
        "\n",
        "# out of 2048 total\n",
        "train_size = 1500\n",
        "\n",
        "# sampling stuff\n",
        "sub = 8 #subsampling rate\n",
        "h = 1024 // sub\n",
        "s = h\n",
        "# sampling over time\n",
        "sub_t = 1\n",
        "T = 101 // sub_t\n",
        "\n",
        "pad_size = 15\n",
        "\n",
        "batch_size = 1\n",
        "learning_rate = 0.001\n",
        "\n",
        "epochs = 20\n",
        "step_size = 1\n",
        "gamma = 0.5\n",
        "\n",
        "modes = 20\n",
        "width = 64\n",
        "\n",
        "LOG_INTERVAL = 100\n",
        "\n",
        "pad_data = False"
      ],
      "execution_count": null,
      "outputs": []
    },
    {
      "cell_type": "markdown",
      "metadata": {
        "id": "m4YxJAhOUbYJ"
      },
      "source": [
        "# Load Data"
      ]
    },
    {
      "cell_type": "code",
      "metadata": {
        "id": "ufwHdBEyWANe",
        "colab": {
          "base_uri": "https://localhost:8080/"
        },
        "outputId": "ab1392d7-b9b2-415f-b728-7b3894399422"
      },
      "source": [
        "data_loader = MatReader('/content/burgers_v100_t100_r1024_N2048.mat')\n",
        "# x_data = data_loader.read_field('input')\n",
        "# y_data = data_loader.read_field('output')\n",
        "\n",
        "x_data = data_loader.read_field('input')[:,::sub]\n",
        "y_data = data_loader.read_field('output')[:,::sub_t,::sub]\n",
        "\n",
        "print(x_data.shape, torch.mean(torch.abs(x_data)))\n",
        "print(y_data.shape, torch.mean(torch.abs(y_data)))\n",
        "\n",
        "x_train = x_data[:ntrain]\n",
        "y_train = y_data[:ntrain]\n",
        "x_test = x_data[ntrain:]\n",
        "y_test = y_data[ntrain:]\n",
        "\n",
        "print(x_train.shape)\n",
        "print(y_train.shape)\n",
        "print(x_test.shape)\n",
        "print(y_test.shape)"
      ],
      "execution_count": null,
      "outputs": [
        {
          "output_type": "stream",
          "text": [
            "/usr/local/lib/python3.7/dist-packages/scipy/io/matlab/mio.py:218: MatReadWarning: Duplicate variable name \"None\" in stream - replacing previous with new\n",
            "Consider mio5.varmats_from_mat to split file into single variable files\n",
            "  matfile_dict = MR.get_variables(variable_names)\n"
          ],
          "name": "stderr"
        },
        {
          "output_type": "stream",
          "text": [
            "torch.Size([2048, 256]) tensor(0.2198)\n",
            "torch.Size([2048, 101, 256]) tensor(0.1572)\n",
            "torch.Size([1024, 256])\n",
            "torch.Size([1024, 101, 256])\n",
            "torch.Size([1024, 256])\n",
            "torch.Size([1024, 101, 256])\n"
          ],
          "name": "stdout"
        }
      ]
    },
    {
      "cell_type": "code",
      "metadata": {
        "id": "Fz3lVnvWjXa7"
      },
      "source": [
        "x_normalizer = UnitGaussianNormalizer(x_train)\n",
        "x_train = x_normalizer.encode(x_train)\n",
        "x_test = x_normalizer.encode(x_test)\n",
        "\n",
        "y_normalizer = UnitGaussianNormalizer(y_train)\n",
        "y_train = y_normalizer.encode(y_train)\n",
        "y_test = y_normalizer.encode(y_test)\n",
        "\n",
        "# Method from pino_burger_fdm\n",
        "# Repeats the 1D input to make it 2D\n",
        "x_train = x_train.reshape(ntrain, 1, s).repeat([1,T,1])\n",
        "x_test = x_test.reshape(ntest, 1, s).repeat([1,T,1])"
      ],
      "execution_count": null,
      "outputs": []
    },
    {
      "cell_type": "code",
      "metadata": {
        "colab": {
          "base_uri": "https://localhost:8080/"
        },
        "id": "vYfIfPk_Cukx",
        "outputId": "07d013c9-f950-4ba6-99d1-bb88dfca74ad"
      },
      "source": [
        "# Padded data\n",
        "padt_train = torch.zeros((ntrain, pad_size, s))\n",
        "x_train_pad = torch.cat([x_train, padt_train], 1)\n",
        "\n",
        "padt_test = torch.zeros((ntest, pad_size, s))\n",
        "x_test_pad = torch.cat([x_test, padt_test], 1)\n",
        "\n",
        "# Adding grids\n",
        "gridt = torch.tensor(np.linspace(0,1,T), dtype=torch.float)\n",
        "gridt = gridt.reshape(1, T, 1)\n",
        "gridx = torch.tensor(np.linspace(0, 1, s+1)[:-1], dtype=torch.float)\n",
        "gridx = gridx.reshape(1, 1, s)\n",
        "\n",
        "gridt_pad = torch.tensor(np.linspace(0,1,T+pad_size), dtype = torch.float)\n",
        "gridt_pad = gridt_pad.reshape(1,T+pad_size,1)\n",
        "gridx_pad = torch.tensor(np.linspace(0,1,s), dtype = torch.float)\n",
        "gridx_pad = gridx_pad.reshape(1,1,s)\n",
        "\n",
        "# Stacking grids on data\n",
        "x_train_grids = torch.stack([x_train, gridx.repeat([ntrain, T, 1]), gridt.repeat([ntrain, 1, s])], dim=3)\n",
        "x_test_grids = torch.stack([x_test, gridx.repeat([ntest, T, 1]), gridt.repeat([ntest, 1, s])], dim=3)\n",
        "\n",
        "x_train_pad_grids = torch.stack([x_train_pad, gridx_pad.repeat([ntrain, T+pad_size, 1]), gridt_pad.repeat([ntrain, 1, s])], dim = 3)\n",
        "x_test_pad_grids = torch.stack([x_test_pad, gridx_pad.repeat([ntest, T+pad_size, 1]), gridt_pad.repeat([ntest, 1, s])], dim = 3)\n",
        "\n",
        "print(x_train_grids.shape)\n",
        "print(x_test_grids.shape)\n",
        "print(x_train_pad_grids.shape)\n",
        "print(x_test_pad_grids.shape)\n",
        "\n",
        "#not done\n",
        "# x_train_pad = torch.stack([x_train_pad, gridx.repeat([ntrain, T, 1]), gridt.repeat([ntrain, 1, s])], dim=3)\n",
        "# x_test_pad = torch.stack([x_test_pad, gridx.repeat([ntest, T, 1]), gridt.repeat([ntest, 1, s])], dim=3)\n",
        "\n",
        "# Method from fourier_2d\n",
        "# grids = []\n",
        "# grids.append(np.linspace(0, 1, s))\n",
        "# grids.append(np.linspace(0, 1, s))\n",
        "# grid = np.vstack([xx.ravel() for xx in np.meshgrid(*grids)]).T\n",
        "# grid = grid.reshape(1,s,s,2)\n",
        "# grid = torch.tensor(grid, dtype=torch.float)\n",
        "# x_train = torch.cat([x_train.reshape(ntrain,s,s,1), grid.repeat(ntrain,1,1,1)], dim=3)\n",
        "# x_test = torch.cat([x_test.reshape(ntest,s,s,1), grid.repeat(ntest,1,1,1)], dim=3)\n",
        "\n",
        "if not pad_data:\n",
        "    train_loader = torch.utils.data.DataLoader(torch.utils.data.TensorDataset(x_train_grids, y_train), batch_size=batch_size, shuffle=True)\n",
        "    test_loader = torch.utils.data.DataLoader(torch.utils.data.TensorDataset(x_test_grids, y_test), batch_size=batch_size, shuffle=False)\n",
        "else:\n",
        "    train_loader = torch.utils.data.DataLoader(torch.utils.data.TensorDataset(x_train_pad_grids, y_train), batch_size=batch_size, shuffle=True)\n",
        "    test_loader = torch.utils.data.DataLoader(torch.utils.data.TensorDataset(x_test_pad_grids, y_test), batch_size=batch_size, shuffle=False)"
      ],
      "execution_count": null,
      "outputs": [
        {
          "output_type": "stream",
          "text": [
            "torch.Size([1024, 101, 256, 3])\n",
            "torch.Size([1024, 101, 256, 3])\n",
            "torch.Size([1024, 101, 256, 3])\n",
            "torch.Size([1024, 101, 256, 3])\n"
          ],
          "name": "stdout"
        }
      ]
    },
    {
      "cell_type": "code",
      "metadata": {
        "colab": {
          "base_uri": "https://localhost:8080/",
          "height": 286
        },
        "id": "2SfYs91ujwVX",
        "outputId": "19270086-4269-44d5-9dcb-89341483854c"
      },
      "source": [
        "fig = plt.figure()\n",
        "\n",
        "plt.subplot(2,1,1)\n",
        "plt.imshow(x_train_pad_grids[0,:,:,2], interpolation = 'none')\n",
        "\n",
        "plt.subplot(2,1,2)\n",
        "plt.imshow(y_train[0], interpolation = 'none')"
      ],
      "execution_count": null,
      "outputs": [
        {
          "output_type": "execute_result",
          "data": {
            "text/plain": [
              "<matplotlib.image.AxesImage at 0x7fc1b9f7e790>"
            ]
          },
          "metadata": {
            "tags": []
          },
          "execution_count": 16
        },
        {
          "output_type": "display_data",
          "data": {
            "image/png": "[encoded data removed]",
            "text/plain": [
              "<Figure size 432x288 with 2 Axes>"
            ]
          },
          "metadata": {
            "tags": [],
            "needs_background": "light"
          }
        }
      ]
    },
    {
      "cell_type": "markdown",
      "metadata": {
        "id": "erXlGtjGj0It"
      },
      "source": [
        "# Neural Network"
      ]
    },
    {
      "cell_type": "code",
      "metadata": {
        "colab": {
          "base_uri": "https://localhost:8080/"
        },
        "id": "tCrKO6cOj2fn",
        "outputId": "83151cfa-234b-4223-f50c-025ceec0985a"
      },
      "source": [
        "model = Net2d(modes, width).cuda()\n",
        "print(count_params(model))\n",
        "\n",
        "optimizer = torch.optim.Adam(model.parameters(), lr=learning_rate, weight_decay=1e-4)\n",
        "scheduler = torch.optim.lr_scheduler.StepLR(optimizer, step_size=step_size, gamma=gamma)\n",
        "\n",
        "l2_loss = LpLoss(size_average=True)"
      ],
      "execution_count": null,
      "outputs": [
        {
          "output_type": "stream",
          "text": [
            "5051713\n"
          ],
          "name": "stdout"
        }
      ]
    },
    {
      "cell_type": "code",
      "metadata": {
        "id": "y9xFbV4XAhjM"
      },
      "source": [
        "test_loss_compare = []"
      ],
      "execution_count": null,
      "outputs": []
    },
    {
      "cell_type": "code",
      "metadata": {
        "id": "O77a_bdGj9Rc"
      },
      "source": [
        "train_loss = []\n",
        "test_loss = []\n",
        "def train(epoch):\n",
        "    model.train()\n",
        "    start_time = time.perf_counter()\n",
        "    total_loss = 0\n",
        "    for batch_idx, (data, target) in enumerate(train_loader):\n",
        "        data, target = data.cuda(), target.cuda()\n",
        "        optimizer.zero_grad()\n",
        "\n",
        "        output = model(data)\n",
        "        \n",
        "        # remove padding\n",
        "        output = output.narrow(1, 0, T)\n",
        "        \n",
        "        # loss = F.mse_loss(output.view(batch_size,-1), target.view(batch_size,-1), reduction = 'sum')\n",
        "        loss = l2_loss(output.view(batch_size, T, s), target.view(batch_size,T, s))\n",
        "\n",
        "        total_loss += loss.item()\n",
        "\n",
        "        loss.backward()\n",
        "\n",
        "        optimizer.step()\n",
        "\n",
        "    print('Train Epoch: {} Loss: {:.8E} Time: {:.1f}'.format(\n",
        "        epoch,\n",
        "        total_loss / len(train_loader.dataset),\n",
        "        time.perf_counter() - start_time\n",
        "    ))\n",
        "    scheduler.step()\n",
        "    train_loss.append(total_loss / ntrain)\n",
        "\n",
        "\n",
        "def test():\n",
        "    model.eval()\n",
        "    loss = 0\n",
        "    start_time = time.perf_counter()\n",
        "    with torch.no_grad():\n",
        "        for data, target in test_loader:\n",
        "            data, target = data.cuda(), target.cuda()\n",
        "            output = model(data)\n",
        "            \n",
        "            # remove padding\n",
        "            output = output.narrow(1, 0, T)\n",
        "            \n",
        "            # loss += F.mse_loss(output.view(batch_size, -1), target.view(batch_size,-1), reduction = 'sum').item()\n",
        "            loss += l2_loss(output.view(batch_size, T, s), target.view(batch_size,T, s)).item()\n",
        "    \n",
        "    runtime = time.perf_counter() - start_time\n",
        "    loss /= len(test_loader.dataset)\n",
        "    print('Test Loss: {:.8E} Time: {:.1f}'.format(\n",
        "        loss,\n",
        "        runtime\n",
        "    ))\n",
        "    test_loss.append(loss)"
      ],
      "execution_count": null,
      "outputs": []
    },
    {
      "cell_type": "code",
      "metadata": {
        "colab": {
          "base_uri": "https://localhost:8080/",
          "height": 425
        },
        "id": "pxoqwBTjk3O2",
        "outputId": "6869d913-4009-4054-9bcc-03d24bcb5dfe"
      },
      "source": [
        "test()\n",
        "for epoch in range(1, epochs+1):\n",
        "    train(epoch)\n",
        "    test()\n",
        "\n",
        "test_loss_compare.append(test_loss)"
      ],
      "execution_count": null,
      "outputs": [
        {
          "output_type": "stream",
          "text": [
            "Test Loss: 9.99609404E-01 Time: 6.5\n",
            "Train Epoch: 1 Loss: 1.70376405E-01 Time: 20.7\n",
            "Test Loss: 1.29190413E-01 Time: 6.3\n"
          ],
          "name": "stdout"
        },
        {
          "output_type": "error",
          "ename": "KeyboardInterrupt",
          "evalue": "ignored",
          "traceback": [
            "\u001b[0;31m---------------------------------------------------------------------------\u001b[0m",
            "\u001b[0;31mKeyboardInterrupt\u001b[0m                         Traceback (most recent call last)",
            "\u001b[0;32m<ipython-input-20-190f24ed5cb4>\u001b[0m in \u001b[0;36m<module>\u001b[0;34m()\u001b[0m\n\u001b[1;32m      1\u001b[0m \u001b[0mtest\u001b[0m\u001b[0;34m(\u001b[0m\u001b[0;34m)\u001b[0m\u001b[0;34m\u001b[0m\u001b[0;34m\u001b[0m\u001b[0m\n\u001b[1;32m      2\u001b[0m \u001b[0;32mfor\u001b[0m \u001b[0mepoch\u001b[0m \u001b[0;32min\u001b[0m \u001b[0mrange\u001b[0m\u001b[0;34m(\u001b[0m\u001b[0;36m1\u001b[0m\u001b[0;34m,\u001b[0m \u001b[0mepochs\u001b[0m\u001b[0;34m+\u001b[0m\u001b[0;36m1\u001b[0m\u001b[0;34m)\u001b[0m\u001b[0;34m:\u001b[0m\u001b[0;34m\u001b[0m\u001b[0;34m\u001b[0m\u001b[0m\n\u001b[0;32m----> 3\u001b[0;31m     \u001b[0mtrain\u001b[0m\u001b[0;34m(\u001b[0m\u001b[0mepoch\u001b[0m\u001b[0;34m)\u001b[0m\u001b[0;34m\u001b[0m\u001b[0;34m\u001b[0m\u001b[0m\n\u001b[0m\u001b[1;32m      4\u001b[0m     \u001b[0mtest\u001b[0m\u001b[0;34m(\u001b[0m\u001b[0;34m)\u001b[0m\u001b[0;34m\u001b[0m\u001b[0;34m\u001b[0m\u001b[0m\n\u001b[1;32m      5\u001b[0m \u001b[0;34m\u001b[0m\u001b[0m\n",
            "\u001b[0;32m<ipython-input-19-da9fa38a722f>\u001b[0m in \u001b[0;36mtrain\u001b[0;34m(epoch)\u001b[0m\n\u001b[1;32m     19\u001b[0m         \u001b[0mtotal_loss\u001b[0m \u001b[0;34m+=\u001b[0m \u001b[0mloss\u001b[0m\u001b[0;34m.\u001b[0m\u001b[0mitem\u001b[0m\u001b[0;34m(\u001b[0m\u001b[0;34m)\u001b[0m\u001b[0;34m\u001b[0m\u001b[0;34m\u001b[0m\u001b[0m\n\u001b[1;32m     20\u001b[0m \u001b[0;34m\u001b[0m\u001b[0m\n\u001b[0;32m---> 21\u001b[0;31m         \u001b[0mloss\u001b[0m\u001b[0;34m.\u001b[0m\u001b[0mbackward\u001b[0m\u001b[0;34m(\u001b[0m\u001b[0;34m)\u001b[0m\u001b[0;34m\u001b[0m\u001b[0;34m\u001b[0m\u001b[0m\n\u001b[0m\u001b[1;32m     22\u001b[0m \u001b[0;34m\u001b[0m\u001b[0m\n\u001b[1;32m     23\u001b[0m         \u001b[0moptimizer\u001b[0m\u001b[0;34m.\u001b[0m\u001b[0mstep\u001b[0m\u001b[0;34m(\u001b[0m\u001b[0;34m)\u001b[0m\u001b[0;34m\u001b[0m\u001b[0;34m\u001b[0m\u001b[0m\n",
            "\u001b[0;32m/usr/local/lib/python3.7/dist-packages/torch/_tensor.py\u001b[0m in \u001b[0;36mbackward\u001b[0;34m(self, gradient, retain_graph, create_graph, inputs)\u001b[0m\n\u001b[1;32m    253\u001b[0m                 \u001b[0mcreate_graph\u001b[0m\u001b[0;34m=\u001b[0m\u001b[0mcreate_graph\u001b[0m\u001b[0;34m,\u001b[0m\u001b[0;34m\u001b[0m\u001b[0;34m\u001b[0m\u001b[0m\n\u001b[1;32m    254\u001b[0m                 inputs=inputs)\n\u001b[0;32m--> 255\u001b[0;31m         \u001b[0mtorch\u001b[0m\u001b[0;34m.\u001b[0m\u001b[0mautograd\u001b[0m\u001b[0;34m.\u001b[0m\u001b[0mbackward\u001b[0m\u001b[0;34m(\u001b[0m\u001b[0mself\u001b[0m\u001b[0;34m,\u001b[0m \u001b[0mgradient\u001b[0m\u001b[0;34m,\u001b[0m \u001b[0mretain_graph\u001b[0m\u001b[0;34m,\u001b[0m \u001b[0mcreate_graph\u001b[0m\u001b[0;34m,\u001b[0m \u001b[0minputs\u001b[0m\u001b[0;34m=\u001b[0m\u001b[0minputs\u001b[0m\u001b[0;34m)\u001b[0m\u001b[0;34m\u001b[0m\u001b[0;34m\u001b[0m\u001b[0m\n\u001b[0m\u001b[1;32m    256\u001b[0m \u001b[0;34m\u001b[0m\u001b[0m\n\u001b[1;32m    257\u001b[0m     \u001b[0;32mdef\u001b[0m \u001b[0mregister_hook\u001b[0m\u001b[0;34m(\u001b[0m\u001b[0mself\u001b[0m\u001b[0;34m,\u001b[0m \u001b[0mhook\u001b[0m\u001b[0;34m)\u001b[0m\u001b[0;34m:\u001b[0m\u001b[0;34m\u001b[0m\u001b[0;34m\u001b[0m\u001b[0m\n",
            "\u001b[0;32m/usr/local/lib/python3.7/dist-packages/torch/autograd/__init__.py\u001b[0m in \u001b[0;36mbackward\u001b[0;34m(tensors, grad_tensors, retain_graph, create_graph, grad_variables, inputs)\u001b[0m\n\u001b[1;32m    147\u001b[0m     Variable._execution_engine.run_backward(\n\u001b[1;32m    148\u001b[0m         \u001b[0mtensors\u001b[0m\u001b[0;34m,\u001b[0m \u001b[0mgrad_tensors_\u001b[0m\u001b[0;34m,\u001b[0m \u001b[0mretain_graph\u001b[0m\u001b[0;34m,\u001b[0m \u001b[0mcreate_graph\u001b[0m\u001b[0;34m,\u001b[0m \u001b[0minputs\u001b[0m\u001b[0;34m,\u001b[0m\u001b[0;34m\u001b[0m\u001b[0;34m\u001b[0m\u001b[0m\n\u001b[0;32m--> 149\u001b[0;31m         allow_unreachable=True, accumulate_grad=True)  # allow_unreachable flag\n\u001b[0m\u001b[1;32m    150\u001b[0m \u001b[0;34m\u001b[0m\u001b[0m\n\u001b[1;32m    151\u001b[0m \u001b[0;34m\u001b[0m\u001b[0m\n",
            "\u001b[0;31mKeyboardInterrupt\u001b[0m: "
          ]
        }
      ]
    },
    {
      "cell_type": "markdown",
      "metadata": {
        "id": "QSteQfJ4ovjG"
      },
      "source": [
        "# Data Analysis"
      ]
    },
    {
      "cell_type": "code",
      "metadata": {
        "colab": {
          "base_uri": "https://localhost:8080/",
          "height": 303
        },
        "id": "JiSS1vZ8ofEh",
        "outputId": "7bf0c705-7e2c-45d9-9438-2840e508d27e"
      },
      "source": [
        "data, target = next(iter(test_loader))\n",
        "data = data.cuda()\n",
        "output = model(data)\n",
        "print(output.shape)\n",
        "output = output.narrow(1, 0, T)\n",
        "output = output.cpu().detach().numpy()\n",
        "\n",
        "output = output.reshape((T,128))\n",
        "target = target.reshape((T,128))\n",
        "\n",
        "fig = plt.figure()\n",
        "\n",
        "plt.subplot(2,1,1)\n",
        "plt.imshow(output, interpolation = 'none')\n",
        "\n",
        "\n",
        "plt.subplot(2,1,2)\n",
        "plt.imshow(target, interpolation = 'none')"
      ],
      "execution_count": null,
      "outputs": [
        {
          "output_type": "stream",
          "text": [
            "torch.Size([1, 146, 128, 1])\n"
          ],
          "name": "stdout"
        },
        {
          "output_type": "execute_result",
          "data": {
            "text/plain": [
              "<matplotlib.image.AxesImage at 0x7f204718df90>"
            ]
          },
          "metadata": {
            "tags": []
          },
          "execution_count": 101
        },
        {
          "output_type": "display_data",
          "data": {
            "image/png": "[encoded data removed]",
            "text/plain": [
              "<Figure size 432x288 with 2 Axes>"
            ]
          },
          "metadata": {
            "tags": [],
            "needs_background": "light"
          }
        }
      ]
    },
    {
      "cell_type": "code",
      "metadata": {
        "colab": {
          "base_uri": "https://localhost:8080/",
          "height": 265
        },
        "id": "3xDoKjl3okK_",
        "outputId": "7f62deef-2a6d-4758-86e3-70292715cd5d"
      },
      "source": [
        "fig = plt.figure()\n",
        "\n",
        "plt.plot(train_loss, \"*-\")\n",
        "plt.plot(test_loss, \"*-\")\n",
        "plt.show()"
      ],
      "execution_count": null,
      "outputs": [
        {
          "output_type": "display_data",
          "data": {
            "image/png": "[encoded data removed]",
            "text/plain": [
              "<Figure size 432x288 with 1 Axes>"
            ]
          },
          "metadata": {
            "tags": [],
            "needs_background": "light"
          }
        }
      ]
    },
    {
      "cell_type": "code",
      "metadata": {
        "colab": {
          "base_uri": "https://localhost:8080/",
          "height": 592
        },
        "id": "wqL1cq-dAzWO",
        "outputId": "0d171de7-d9e2-44a1-ee75-2254a4fcb4b7"
      },
      "source": [
        "fig = plt.figure(figsize=(10,10))\n",
        "idx = 0\n",
        "for loss in test_loss_compare:\n",
        "    plt.plot(loss[1:], \"*-\", label = idx*5)\n",
        "    idx+=1\n",
        "plt.legend()\n",
        "plt.show()"
      ],
      "execution_count": null,
      "outputs": [
        {
          "output_type": "display_data",
          "data": {
            "image/png": "[encoded data removed]",
            "text/plain": [
              "<Figure size 720x720 with 1 Axes>"
            ]
          },
          "metadata": {
            "tags": [],
            "needs_background": "light"
          }
        }
      ]
    }
  ]
}