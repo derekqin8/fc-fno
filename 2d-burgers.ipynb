{
 "cells": [
  {
   "cell_type": "code",
   "execution_count": 1,
   "metadata": {},
   "outputs": [],
   "source": [
    "from __future__ import print_function\n",
    "import argparse\n",
    "import torch\n",
    "import torch.nn as nn\n",
    "import torch.nn.functional as F\n",
    "import torch.optim as optim\n",
    "from torchvision import datasets, transforms\n",
    "from torch.autograd import Variable\n",
    "import operator\n",
    "from functools import reduce\n",
    "from functools import partial\n",
    "\n",
    "import time\n",
    "import matplotlib.pyplot as plt\n",
    "from utilities3 import *"
   ]
  },
  {
   "cell_type": "code",
   "execution_count": 2,
   "metadata": {},
   "outputs": [],
   "source": [
    "def compl_mul2d(a, b):\n",
    "    # (batch, in_channel, x,y,t ), (in_channel, out_channel, x,y,t) -> (batch, out_channel, x,y,t)\n",
    "    return torch.einsum(\"bixy,ioxy->boxy\", a, b)\n",
    "\n",
    "class LowRank2d(nn.Module):\n",
    "    def __init__(self, in_channels, out_channels):\n",
    "        super(LowRank2d, self).__init__()\n",
    "        self.in_channels = in_channels\n",
    "        self.out_channels = out_channels\n",
    "\n",
    "        self.phi = DenseNet([2, 64, 128, in_channels*out_channels], torch.nn.ReLU)\n",
    "        self.psi = DenseNet([2, 64, 128, in_channels*out_channels], torch.nn.ReLU)\n",
    "\n",
    "    def get_grid(self, S1, S2, batchsize, device):\n",
    "        gridx = torch.tensor(np.linspace(0, 1, S1), dtype=torch.float)\n",
    "        gridx = gridx.reshape(1, S1, 1).repeat([batchsize, 1, S2])\n",
    "        gridy = torch.tensor(np.linspace(0, 1, S2), dtype=torch.float)\n",
    "        gridy = gridy.reshape(1, 1, S2).repeat([batchsize, S1, 1])\n",
    "        return torch.stack((gridx, gridy), dim=-1).to(device)\n",
    "\n",
    "    def forward(self, x, gridy=None):\n",
    "        # x (batch, channel, x, y)\n",
    "        # y (Ny, 2)\n",
    "        batchsize, size1, size2 = x.shape[0], x.shape[2], x.shape[3]\n",
    "\n",
    "        gridx = self.get_grid(S1=size1, S2=size2, batchsize=1, device=x.device).reshape(size1 * size2, 2)\n",
    "        if gridy==None:\n",
    "            gridy = self.get_grid(S1=size1, S2=size2, batchsize=1, device=x.device).reshape(size1 * size2, 2)\n",
    "        Nx = size1 * size2\n",
    "        Ny = gridy.shape[0]\n",
    "\n",
    "        phi_eval = self.phi(gridx).reshape(Nx, self.out_channels, self.in_channels)\n",
    "        psi_eval = self.psi(gridy).reshape(Ny, self.out_channels, self.in_channels)\n",
    "        x = x.reshape(batchsize, self.in_channels, Nx)\n",
    "\n",
    "        x = torch.einsum('noi,bin,moi->bom', phi_eval, x, psi_eval) / Nx\n",
    "        return x"
   ]
  },
  {
   "cell_type": "code",
   "execution_count": 3,
   "metadata": {},
   "outputs": [],
   "source": [
    "class SpectralConv2d(nn.Module):\n",
    "    '''\n",
    "    Single Fourier Neural Operator layer, performs FFT on input, etc\n",
    "    '''\n",
    "    def __init__(self, in_channels, out_channels, modes1, modes2):\n",
    "        super(SpectralConv2d, self).__init__()\n",
    "        self.in_channels = in_channels\n",
    "        self.out_channels = out_channels\n",
    "        self.modes1 = modes1 #Number of Fourier modes to multiply, at most floor(N/2) + 1\n",
    "        self.modes2 = modes2\n",
    "\n",
    "        self.scale = (1 / (in_channels * out_channels))\n",
    "        self.weights1 = nn.Parameter(self.scale * torch.rand(in_channels, out_channels, self.modes1, self.modes2, dtype=torch.cfloat))\n",
    "        self.weights2 = nn.Parameter(self.scale * torch.rand(in_channels, out_channels, self.modes1, self.modes2, dtype=torch.cfloat))\n",
    "\n",
    "    def forward(self, x, size=None):\n",
    "\n",
    "        if size==None:\n",
    "            size = (x.size(2), x.size(3))\n",
    "\n",
    "        batchsize = x.shape[0]\n",
    "        #Compute Fourier coeffcients up to factor of e^(- something constant)\n",
    "        x_ft = torch.fft.rfftn(x, dim=[2,3])\n",
    "\n",
    "        # Multiply relevant Fourier modes\n",
    "        out_ft = torch.zeros(batchsize, self.out_channels, size[0], size[1]//2 + 1, device=x.device, dtype=torch.cfloat)\n",
    "        out_ft[:, :, :self.modes1, :self.modes2] = \\\n",
    "            compl_mul2d(x_ft[:, :, :self.modes1, :self.modes2], self.weights1)\n",
    "        out_ft[:, :, -self.modes1:, :self.modes2] = \\\n",
    "            compl_mul2d(x_ft[:, :, -self.modes1:, :self.modes2], self.weights2)\n",
    "\n",
    "        #Return to physical space\n",
    "        x = torch.fft.irfftn(out_ft, s=(size[0], size[1]), dim=[2,3])\n",
    "\n",
    "        return x"
   ]
  },
  {
   "cell_type": "code",
   "execution_count": 4,
   "metadata": {},
   "outputs": [],
   "source": [
    "class SimpleBlock2d(nn.Module):\n",
    "    def __init__(self, modes1, modes2, width, in_dim=3, out_dim=1):\n",
    "        super(SimpleBlock2d, self).__init__()\n",
    "\n",
    "        self.modes1 = modes1\n",
    "        self.modes2 = modes2\n",
    "\n",
    "        self.width_list = [width*2//4, width*3//4, width*4//4, width*4//4, width*5//4]\n",
    "\n",
    "        self.fc0 = nn.Linear(in_dim, self.width_list[0])\n",
    "\n",
    "        self.conv0 = SpectralConv2d(self.width_list[0], self.width_list[1], self.modes1*4//4, self.modes2*4//4)\n",
    "        self.conv1 = SpectralConv2d(self.width_list[1], self.width_list[2], self.modes1*3//4, self.modes2*3//4)\n",
    "        self.conv2 = SpectralConv2d(self.width_list[2], self.width_list[3], self.modes1*2//4, self.modes2*2//4)\n",
    "        self.conv3 = SpectralConv2d(self.width_list[3], self.width_list[4], self.modes1*1//4, self.modes2*1//4)\n",
    "        self.w0 = nn.Conv1d(self.width_list[0], self.width_list[1], 1)\n",
    "        self.w1 = nn.Conv1d(self.width_list[1], self.width_list[2], 1)\n",
    "        self.w2 = nn.Conv1d(self.width_list[2], self.width_list[3], 1)\n",
    "        self.w3 = nn.Conv1d(self.width_list[3], self.width_list[4], 1)\n",
    "        self.k3 = LowRank2d(self.width_list[3], self.width_list[4])\n",
    "\n",
    "        self.fc1 = nn.Linear(self.width_list[4], self.width_list[4]*2)\n",
    "        # self.fc2 = nn.Linear(self.width_list[4]*2, self.width_list[4]*2)\n",
    "        self.fc3 = nn.Linear(self.width_list[4]*2, out_dim)\n",
    "\n",
    "    def forward(self, x, sub=1):\n",
    "\n",
    "        batchsize = x.shape[0]\n",
    "        size_x, size_y = x.shape[1], x.shape[2]\n",
    "        size = (size_x*sub, size_y*sub)\n",
    "\n",
    "        x = self.fc0(x)\n",
    "        x = x.permute(0, 3, 1, 2)\n",
    "\n",
    "        x1 = self.conv0(x)\n",
    "        x2 = self.w0(x.view(batchsize, self.width_list[0], size_x*size_y)).view(batchsize, self.width_list[1], size_x, size_y)\n",
    "        # x2 = F.interpolate(x2, size=size_list[1], mode='bilinear')\n",
    "        x = x1 + x2\n",
    "        x = F.elu(x)\n",
    "\n",
    "        x1 = self.conv1(x)\n",
    "        x2 = self.w1(x.view(batchsize, self.width_list[1], size_x*size_y)).view(batchsize, self.width_list[2], size_x, size_y)\n",
    "        # x2 = F.interpolate(x2, size=size_list[2], mode='bilinear')\n",
    "        x = x1 + x2\n",
    "        x = F.elu(x)\n",
    "\n",
    "        x1 = self.conv2(x)\n",
    "        x2 = self.w2(x.view(batchsize, self.width_list[2], size_x*size_y)).view(batchsize, self.width_list[3], size_x, size_y)\n",
    "        # x2 = F.interpolate(x2, size=size_list[3], mode='bilinear')\n",
    "        x = x1 + x2\n",
    "        x = F.elu(x)\n",
    "\n",
    "        x1 = self.conv3(x, size)\n",
    "        x2 = self.w3(x.view(batchsize, self.width_list[3], size_x*size_y)).view(batchsize, self.width_list[4], size_x, size_y)\n",
    "        # x2 = self.k3(x).reshape(batchsize, self.width_list[4], size_x, size_y)\n",
    "        # x2 = F.interpolate(x2, size=size, mode='bilinear')\n",
    "        x = x1 + x2\n",
    "\n",
    "        x = x.permute(0, 2, 3, 1)\n",
    "        x = self.fc1(x)\n",
    "        x = F.elu(x)\n",
    "        x = self.fc3(x)\n",
    "        return x\n",
    "\n",
    "    def get_grid(self, S, batchsize, device):\n",
    "        gridx = torch.tensor(np.linspace(0, 1, S), dtype=torch.float)\n",
    "        gridx = gridx.reshape(1, 1, S, 1).repeat([batchsize, 1, 1, S])\n",
    "        gridy = torch.tensor(np.linspace(0, 1, S), dtype=torch.float)\n",
    "        gridy = gridy.reshape(1, 1, 1, S).repeat([batchsize, 1, S, 1])\n",
    "\n",
    "        return torch.cat((gridx, gridy), dim=1).to(device)\n",
    "\n",
    "class Net2d(nn.Module):\n",
    "    def __init__(self, modes, width):\n",
    "        super(Net2d, self).__init__()\n",
    "\n",
    "        self.conv1 = SimpleBlock2d(modes, modes,  width)\n",
    "\n",
    "\n",
    "    def forward(self, x, sub=1):\n",
    "        x = self.conv1(x, sub)\n",
    "        return x\n",
    "\n",
    "\n",
    "    def count_params(self):\n",
    "        c = 0\n",
    "        for p in self.parameters():\n",
    "            c += reduce(operator.mul, list(p.size()))\n",
    "\n",
    "        return c"
   ]
  },
  {
   "cell_type": "code",
   "execution_count": 5,
   "metadata": {},
   "outputs": [],
   "source": [
    "class Net2d_FC(nn.Module):\n",
    "    def __init__(self, modes, width):\n",
    "        super(Net2d_FC, self).__init__()\n",
    "\n",
    "        self.conv1 = SimpleBlock2d(modes, modes,  width)\n",
    "\n",
    "\n",
    "    def forward(self, x, sub=1, pad_size = 5):\n",
    "        padt = torch.zeros((x.shape[0], pad_size, x.shape[2]))\n",
    "        padt = padt.cuda()\n",
    "        x = torch.cat([x, padt], 1)\n",
    "        x = self.conv1(x, sub)\n",
    "        x = x.narrow(1, 0, x.shape[1]-pad_size)\n",
    "        return x\n",
    "\n",
    "\n",
    "    def count_params(self):\n",
    "        c = 0\n",
    "        for p in self.parameters():\n",
    "            c += reduce(operator.mul, list(p.size()))\n",
    "\n",
    "        return c"
   ]
  },
  {
   "cell_type": "code",
   "execution_count": 6,
   "metadata": {
    "tags": []
   },
   "outputs": [],
   "source": [
    "ntrain = 1500\n",
    "ntest = 2048-1500\n",
    "\n",
    "# out of 2048 total\n",
    "train_size = 1500\n",
    "\n",
    "# sampling stuff\n",
    "sub = 8 #subsampling rate\n",
    "h = 1024 // sub\n",
    "s = h\n",
    "# sampling over time\n",
    "sub_t = 1\n",
    "T = 101 // sub_t\n",
    "\n",
    "pad_size = T // 20\n",
    "\n",
    "batch_size = 1\n",
    "learning_rate = 0.001\n",
    "\n",
    "epochs = 5\n",
    "step_size = 500\n",
    "gamma = 0.5\n",
    "\n",
    "modes = 20\n",
    "width = 64\n",
    "\n",
    "LOG_INTERVAL = 100"
   ]
  },
  {
   "cell_type": "code",
   "execution_count": 7,
   "metadata": {},
   "outputs": [
    {
     "name": "stderr",
     "output_type": "stream",
     "text": [
      "c:\\users\\derek\\appdata\\local\\programs\\python\\python39\\lib\\site-packages\\scipy\\io\\matlab\\mio.py:226: MatReadWarning: Duplicate variable name \"None\" in stream - replacing previous with new\n",
      "Consider mio5.varmats_from_mat to split file into single variable files\n",
      "  matfile_dict = MR.get_variables(variable_names)\n"
     ]
    },
    {
     "name": "stdout",
     "output_type": "stream",
     "text": [
      "torch.Size([2048, 128]) tensor(0.2198)\n",
      "torch.Size([2048, 101, 128]) tensor(0.1572)\n",
      "torch.Size([1500, 128])\n",
      "torch.Size([1500, 101, 128])\n",
      "torch.Size([548, 128])\n",
      "torch.Size([548, 101, 128])\n"
     ]
    }
   ],
   "source": [
    "data_loader = MatReader('data/burgers_v100_t100_r1024_N2048.mat')\n",
    "# x_data = data_loader.read_field('input')\n",
    "# y_data = data_loader.read_field('output')\n",
    "\n",
    "x_data = data_loader.read_field('input')[:,::sub]\n",
    "y_data = data_loader.read_field('output')[:,::sub_t,::sub]\n",
    "\n",
    "print(x_data.shape, torch.mean(torch.abs(x_data)))\n",
    "print(y_data.shape, torch.mean(torch.abs(y_data)))\n",
    "\n",
    "x_train = x_data[:train_size]\n",
    "y_train = y_data[:train_size]\n",
    "x_test = x_data[train_size:]\n",
    "y_test = y_data[train_size:]\n",
    "\n",
    "print(x_train.shape)\n",
    "print(y_train.shape)\n",
    "print(x_test.shape)\n",
    "print(y_test.shape)"
   ]
  },
  {
   "cell_type": "code",
   "execution_count": 8,
   "metadata": {},
   "outputs": [
    {
     "name": "stdout",
     "output_type": "stream",
     "text": [
      "torch.Size([1500, 101, 128, 3])\n",
      "torch.Size([548, 101, 128, 3])\n",
      "torch.Size([1500, 106, 128, 3])\n",
      "torch.Size([548, 106, 128, 3])\n"
     ]
    }
   ],
   "source": [
    "x_normalizer = UnitGaussianNormalizer(x_train)\n",
    "x_train = x_normalizer.encode(x_train)\n",
    "x_test = x_normalizer.encode(x_test)\n",
    "\n",
    "y_normalizer = UnitGaussianNormalizer(y_train)\n",
    "y_train = y_normalizer.encode(y_train)\n",
    "y_test = y_normalizer.encode(y_test)\n",
    "\n",
    "# Method from pino_burger_fdm\n",
    "# Repeats the 1D input to make it 2D\n",
    "x_train = x_train.reshape(ntrain, 1, s).repeat([1,T,1])\n",
    "x_test = x_test.reshape(ntest, 1, s).repeat([1,T,1])\n",
    "\n",
    "# Padded data\n",
    "padt_train = torch.zeros((ntrain, pad_size, s))\n",
    "x_train_pad = torch.cat([x_train, padt_train], 1)\n",
    "\n",
    "padt_test = torch.zeros((ntest, pad_size, s))\n",
    "x_test_pad = torch.cat([x_test, padt_test], 1)\n",
    "\n",
    "# Adding grids\n",
    "gridt = torch.tensor(np.linspace(0,1,T), dtype=torch.float)\n",
    "gridt = gridt.reshape(1, T, 1)\n",
    "gridx = torch.tensor(np.linspace(0, 1, s+1)[:-1], dtype=torch.float)\n",
    "gridx = gridx.reshape(1, 1, s)\n",
    "\n",
    "gridt_pad = torch.tensor(np.linspace(0,1,T+pad_size), dtype = torch.float)\n",
    "gridt_pad = gridt_pad.reshape(1,T+pad_size,1)\n",
    "gridx_pad = torch.tensor(np.linspace(0,1,s), dtype = torch.float)\n",
    "gridx_pad = gridx_pad.reshape(1,1,s)\n",
    "\n",
    "# Stacking grids on data\n",
    "x_train = torch.stack([x_train, gridx.repeat([ntrain, T, 1]), gridt.repeat([ntrain, 1, s])], dim=3)\n",
    "x_test = torch.stack([x_test, gridx.repeat([ntest, T, 1]), gridt.repeat([ntest, 1, s])], dim=3)\n",
    "\n",
    "x_train_pad = torch.stack([x_train_pad, gridx_pad.repeat([ntrain, T+pad_size, 1]), gridt_pad.repeat([ntrain, 1, s])], dim = 3)\n",
    "x_test_pad = torch.stack([x_test_pad, gridx_pad.repeat([ntest, T+pad_size, 1]), gridt_pad.repeat([ntest, 1, s])], dim = 3)\n",
    "\n",
    "print(x_train.shape)\n",
    "print(x_test.shape)\n",
    "print(x_train_pad.shape)\n",
    "print(x_test_pad.shape)\n",
    "\n",
    "#not done\n",
    "# x_train_pad = torch.stack([x_train_pad, gridx.repeat([ntrain, T, 1]), gridt.repeat([ntrain, 1, s])], dim=3)\n",
    "# x_test_pad = torch.stack([x_test_pad, gridx.repeat([ntest, T, 1]), gridt.repeat([ntest, 1, s])], dim=3)\n",
    "\n",
    "# Method from fourier_2d\n",
    "# grids = []\n",
    "# grids.append(np.linspace(0, 1, s))\n",
    "# grids.append(np.linspace(0, 1, s))\n",
    "# grid = np.vstack([xx.ravel() for xx in np.meshgrid(*grids)]).T\n",
    "# grid = grid.reshape(1,s,s,2)\n",
    "# grid = torch.tensor(grid, dtype=torch.float)\n",
    "# x_train = torch.cat([x_train.reshape(ntrain,s,s,1), grid.repeat(ntrain,1,1,1)], dim=3)\n",
    "# x_test = torch.cat([x_test.reshape(ntest,s,s,1), grid.repeat(ntest,1,1,1)], dim=3)\n",
    "\n",
    "train_loader = torch.utils.data.DataLoader(torch.utils.data.TensorDataset(x_train_pad, y_train), batch_size=batch_size, shuffle=True)\n",
    "test_loader = torch.utils.data.DataLoader(torch.utils.data.TensorDataset(x_test_pad, y_test), batch_size=batch_size, shuffle=False)"
   ]
  },
  {
   "cell_type": "code",
   "execution_count": 75,
   "metadata": {},
   "outputs": [
    {
     "name": "stderr",
     "output_type": "stream",
     "text": [
      "Clipping input data to the valid range for imshow with RGB data ([0..1] for floats or [0..255] for integers).\n"
     ]
    },
    {
     "data": {
      "text/plain": [
       "<matplotlib.image.AxesImage at 0x1c67591d190>"
      ]
     },
     "execution_count": 75,
     "metadata": {},
     "output_type": "execute_result"
    },
    {
     "data": {
      "image/png": "[encoded data removed]",
      "text/plain": [
       "<Figure size 432x288 with 2 Axes>"
      ]
     },
     "metadata": {
      "needs_background": "light"
     },
     "output_type": "display_data"
    }
   ],
   "source": [
    "fig = plt.figure()\n",
    "\n",
    "plt.subplot(2,1,1)\n",
    "plt.imshow(x_train[0], interpolation = 'none')\n",
    "\n",
    "plt.subplot(2,1,2)\n",
    "plt.imshow(y_train[0], interpolation = 'none')"
   ]
  },
  {
   "cell_type": "code",
   "execution_count": 84,
   "metadata": {},
   "outputs": [
    {
     "name": "stdout",
     "output_type": "stream",
     "text": [
      "5051713\n"
     ]
    }
   ],
   "source": [
    "model = Net2d(modes, width).cuda()\n",
    "print(count_params(model))\n",
    "\n",
    "optimizer = torch.optim.Adam(model.parameters(), lr=learning_rate, weight_decay=1e-4)\n",
    "scheduler = torch.optim.lr_scheduler.StepLR(optimizer, step_size=step_size, gamma=gamma)"
   ]
  },
  {
   "cell_type": "code",
   "execution_count": null,
   "metadata": {
    "jupyter": {
     "source_hidden": true
    },
    "tags": []
   },
   "outputs": [],
   "source": [
    "model = Net2d(modes, width).cuda()\n",
    "print(count_params(model))\n",
    "\n",
    "optimizer = torch.optim.Adam(model.parameters(), lr=learning_rate, weight_decay=1e-4)\n",
    "scheduler = torch.optim.lr_scheduler.StepLR(optimizer, step_size=step_size, gamma=gamma)\n",
    "\n",
    "myloss = LpLoss(size_average=False)\n",
    "y_normalizer.cuda()\n",
    "for ep in range(epochs):\n",
    "    model.train()\n",
    "    t1 = default_timer()\n",
    "    train_l2 = 0\n",
    "    for x, y in train_loader:\n",
    "        x, y = x.cuda(), y.cuda()\n",
    "\n",
    "        optimizer.zero_grad()\n",
    "        out = model(x).reshape(batch_size, s, s)\n",
    "        out = y_normalizer.decode(out)\n",
    "        y = y_normalizer.decode(y)\n",
    "\n",
    "        loss = myloss(out.view(batch_size,-1), y.view(batch_size,-1))\n",
    "        loss.backward()\n",
    "\n",
    "        optimizer.step()\n",
    "        train_l2 += loss.item()\n",
    "\n",
    "    scheduler.step()\n",
    "\n",
    "    model.eval()\n",
    "    test_l2 = 0.0\n",
    "    with torch.no_grad():\n",
    "        for x, y in test_loader:\n",
    "            x, y = x.cuda(), y.cuda()\n",
    "\n",
    "            out = model(x).reshape(batch_size, s, s)\n",
    "            out = y_normalizer.decode(out)\n",
    "\n",
    "            test_l2 += myloss(out.view(batch_size,-1), y.view(batch_size,-1)).item()\n",
    "\n",
    "    train_l2/= ntrain\n",
    "    test_l2 /= ntest\n",
    "\n",
    "    t2 = default_timer()\n",
    "    print(ep, t2-t1, train_l2, test_l2)"
   ]
  },
  {
   "cell_type": "code",
   "execution_count": 86,
   "metadata": {},
   "outputs": [],
   "source": [
    "train_loss = []\n",
    "test_loss = []\n",
    "def train(epoch):\n",
    "    model.train()\n",
    "    start_time = time.perf_counter()\n",
    "    total_loss = 0\n",
    "    for batch_idx, (data, target) in enumerate(train_loader):\n",
    "        data, target = data.cuda(), target.cuda()\n",
    "        optimizer.zero_grad()\n",
    "\n",
    "        output = model(data)\n",
    "        \n",
    "        # remove padding\n",
    "        output = output.narrow(1, 0, T)\n",
    "        \n",
    "        loss = F.mse_loss(output.view(batch_size,-1), target.view(batch_size,-1), reduction = 'sum')\n",
    "\n",
    "        total_loss += loss.item()\n",
    "\n",
    "        loss.backward()\n",
    "\n",
    "        optimizer.step()\n",
    "\n",
    "        if batch_idx % LOG_INTERVAL == 0:\n",
    "            print('Train Epoch: {} [{}/{} ({:.0f}%)] Loss: {:.6f} Time: {:.1f}'.format(\n",
    "                epoch,\n",
    "                batch_idx * len(data),\n",
    "                len(train_loader.dataset),\n",
    "                100. * batch_idx / len(train_loader),\n",
    "                loss.item(),\n",
    "                time.perf_counter() - start_time\n",
    "            ))\n",
    "    scheduler.step()\n",
    "    train_loss.append(total_loss / ntrain)\n",
    "\n",
    "\n",
    "def test():\n",
    "    model.eval()\n",
    "    loss = 0\n",
    "    start_time = time.perf_counter()\n",
    "    with torch.no_grad():\n",
    "        for data, target in test_loader:\n",
    "            data, target = data.cuda(), target.cuda()\n",
    "            output = model(data)\n",
    "            \n",
    "            # remove padding\n",
    "            output = output.narrow(1, 0, T)\n",
    "            \n",
    "            loss += F.mse_loss(output.view(batch_size, -1), target.view(batch_size,-1), reduction = 'sum').item()\n",
    "    \n",
    "    runtime = time.perf_counter() - start_time\n",
    "    loss /= len(test_loader.dataset)\n",
    "    print('Average Test Loss: {:.8f} Time: {:.1f}'.format(\n",
    "        loss,\n",
    "        runtime\n",
    "    ))\n",
    "    test_loss.append(loss)"
   ]
  },
  {
   "cell_type": "code",
   "execution_count": 87,
   "metadata": {
    "tags": []
   },
   "outputs": [
    {
     "name": "stdout",
     "output_type": "stream",
     "text": [
      "Average Test Loss: 11630.03673709 Time: 5.3\n",
      "Train Epoch: 1 [100/1500 (7%)] Loss: 2165.570252 Time: 3.4\n",
      "Train Epoch: 1 [200/1500 (13%)] Loss: 463.253793 Time: 6.9\n",
      "Train Epoch: 1 [300/1500 (20%)] Loss: 204.602452 Time: 10.5\n",
      "Train Epoch: 1 [400/1500 (27%)] Loss: 252.328790 Time: 14.4\n",
      "Train Epoch: 1 [500/1500 (33%)] Loss: 212.045427 Time: 18.3\n",
      "Train Epoch: 1 [600/1500 (40%)] Loss: 54.806793 Time: 22.3\n",
      "Train Epoch: 1 [700/1500 (47%)] Loss: 171.622836 Time: 26.2\n",
      "Train Epoch: 1 [800/1500 (53%)] Loss: 70.443295 Time: 30.1\n",
      "Train Epoch: 1 [900/1500 (60%)] Loss: 40.470965 Time: 35.1\n",
      "Train Epoch: 1 [1000/1500 (67%)] Loss: 30.776956 Time: 40.3\n",
      "Train Epoch: 1 [1100/1500 (73%)] Loss: 45.354607 Time: 47.8\n",
      "Train Epoch: 1 [1200/1500 (80%)] Loss: 36.827790 Time: 55.0\n",
      "Train Epoch: 1 [1300/1500 (87%)] Loss: 33.337732 Time: 59.2\n",
      "Train Epoch: 1 [1400/1500 (93%)] Loss: 29.841184 Time: 63.1\n",
      "Average Test Loss: 32.55310680 Time: 6.3\n",
      "Train Epoch: 2 [100/1500 (7%)] Loss: 25.868529 Time: 3.8\n",
      "Train Epoch: 2 [200/1500 (13%)] Loss: 34.127094 Time: 7.5\n",
      "Train Epoch: 2 [300/1500 (20%)] Loss: 58.054179 Time: 11.3\n",
      "Train Epoch: 2 [400/1500 (27%)] Loss: 188.469031 Time: 15.0\n",
      "Train Epoch: 2 [500/1500 (33%)] Loss: 75.591632 Time: 18.7\n",
      "Train Epoch: 2 [600/1500 (40%)] Loss: 21.692203 Time: 22.5\n",
      "Train Epoch: 2 [700/1500 (47%)] Loss: 43.527404 Time: 26.2\n",
      "Train Epoch: 2 [800/1500 (53%)] Loss: 14.744254 Time: 30.0\n",
      "Train Epoch: 2 [900/1500 (60%)] Loss: 99.621499 Time: 33.8\n",
      "Train Epoch: 2 [1000/1500 (67%)] Loss: 145.571309 Time: 37.6\n",
      "Train Epoch: 2 [1100/1500 (73%)] Loss: 30.414241 Time: 41.4\n",
      "Train Epoch: 2 [1200/1500 (80%)] Loss: 21.762559 Time: 45.3\n",
      "Train Epoch: 2 [1300/1500 (87%)] Loss: 10.583580 Time: 49.2\n",
      "Train Epoch: 2 [1400/1500 (93%)] Loss: 14.372118 Time: 53.1\n",
      "Average Test Loss: 12.46392329 Time: 6.6\n",
      "Train Epoch: 3 [100/1500 (7%)] Loss: 34.671817 Time: 3.9\n",
      "Train Epoch: 3 [200/1500 (13%)] Loss: 18.225453 Time: 7.7\n",
      "Train Epoch: 3 [300/1500 (20%)] Loss: 24.444759 Time: 11.6\n",
      "Train Epoch: 3 [400/1500 (27%)] Loss: 45.674855 Time: 15.5\n",
      "Train Epoch: 3 [500/1500 (33%)] Loss: 46.101856 Time: 19.5\n",
      "Train Epoch: 3 [600/1500 (40%)] Loss: 29.844566 Time: 23.6\n",
      "Train Epoch: 3 [700/1500 (47%)] Loss: 42.125084 Time: 27.6\n",
      "Train Epoch: 3 [800/1500 (53%)] Loss: 10.998076 Time: 31.4\n",
      "Train Epoch: 3 [900/1500 (60%)] Loss: 20.761277 Time: 35.4\n",
      "Train Epoch: 3 [1000/1500 (67%)] Loss: 69.361699 Time: 39.5\n",
      "Train Epoch: 3 [1100/1500 (73%)] Loss: 164.415735 Time: 43.6\n",
      "Train Epoch: 3 [1200/1500 (80%)] Loss: 22.655682 Time: 47.6\n",
      "Train Epoch: 3 [1300/1500 (87%)] Loss: 24.995766 Time: 51.7\n",
      "Train Epoch: 3 [1400/1500 (93%)] Loss: 14.612545 Time: 56.0\n",
      "Average Test Loss: 13.50230363 Time: 7.3\n",
      "Train Epoch: 4 [100/1500 (7%)] Loss: 10.516512 Time: 4.4\n",
      "Train Epoch: 4 [200/1500 (13%)] Loss: 19.292935 Time: 8.6\n",
      "Train Epoch: 4 [300/1500 (20%)] Loss: 16.586157 Time: 12.6\n",
      "Train Epoch: 4 [400/1500 (27%)] Loss: 16.557412 Time: 16.4\n",
      "Train Epoch: 4 [500/1500 (33%)] Loss: 6.839406 Time: 20.1\n",
      "Train Epoch: 4 [600/1500 (40%)] Loss: 8.559676 Time: 23.8\n",
      "Train Epoch: 4 [700/1500 (47%)] Loss: 63.387521 Time: 27.5\n",
      "Train Epoch: 4 [800/1500 (53%)] Loss: 36.502422 Time: 31.1\n",
      "Train Epoch: 4 [900/1500 (60%)] Loss: 7.858038 Time: 34.8\n",
      "Train Epoch: 4 [1000/1500 (67%)] Loss: 14.724372 Time: 38.5\n",
      "Train Epoch: 4 [1100/1500 (73%)] Loss: 66.303323 Time: 42.2\n",
      "Train Epoch: 4 [1200/1500 (80%)] Loss: 62.797092 Time: 45.9\n",
      "Train Epoch: 4 [1300/1500 (87%)] Loss: 15.486667 Time: 49.6\n",
      "Train Epoch: 4 [1400/1500 (93%)] Loss: 27.575381 Time: 53.3\n",
      "Average Test Loss: 55.62901961 Time: 6.5\n",
      "Train Epoch: 5 [100/1500 (7%)] Loss: 32.436742 Time: 5.8\n",
      "Train Epoch: 5 [200/1500 (13%)] Loss: 8.118837 Time: 10.2\n",
      "Train Epoch: 5 [300/1500 (20%)] Loss: 7.294469 Time: 15.6\n",
      "Train Epoch: 5 [400/1500 (27%)] Loss: 12.415823 Time: 20.1\n",
      "Train Epoch: 5 [500/1500 (33%)] Loss: 10.556744 Time: 24.7\n",
      "Train Epoch: 5 [600/1500 (40%)] Loss: 7.519632 Time: 29.5\n",
      "Train Epoch: 5 [700/1500 (47%)] Loss: 20.139692 Time: 34.3\n",
      "Train Epoch: 5 [800/1500 (53%)] Loss: 27.684179 Time: 39.1\n",
      "Train Epoch: 5 [900/1500 (60%)] Loss: 36.398117 Time: 43.9\n",
      "Train Epoch: 5 [1000/1500 (67%)] Loss: 33.064456 Time: 48.4\n",
      "Train Epoch: 5 [1100/1500 (73%)] Loss: 19.349819 Time: 53.3\n",
      "Train Epoch: 5 [1200/1500 (80%)] Loss: 14.646868 Time: 58.3\n",
      "Train Epoch: 5 [1300/1500 (87%)] Loss: 21.974321 Time: 63.3\n",
      "Train Epoch: 5 [1400/1500 (93%)] Loss: 14.707950 Time: 68.2\n",
      "Average Test Loss: 42.77591594 Time: 8.4\n"
     ]
    }
   ],
   "source": [
    "test()\n",
    "for epoch in range(1, epochs+1):\n",
    "    train(epoch)\n",
    "    test()"
   ]
  },
  {
   "cell_type": "code",
   "execution_count": 80,
   "metadata": {},
   "outputs": [
    {
     "data": {
      "text/plain": [
       "<matplotlib.image.AxesImage at 0x1c675acc160>"
      ]
     },
     "execution_count": 80,
     "metadata": {},
     "output_type": "execute_result"
    },
    {
     "data": {
      "image/png": "[encoded data removed]",
      "text/plain": [
       "<Figure size 432x288 with 2 Axes>"
      ]
     },
     "metadata": {
      "needs_background": "light"
     },
     "output_type": "display_data"
    }
   ],
   "source": [
    "data, target = next(iter(test_loader))\n",
    "data = data.cuda()\n",
    "output = model(data)\n",
    "output = output.narrow(1, 0, T)\n",
    "output = output.cpu().detach().numpy()\n",
    "\n",
    "output = output.reshape((T,128))\n",
    "target = target.reshape((T,128))\n",
    "\n",
    "fig = plt.figure()\n",
    "\n",
    "plt.subplot(2,1,1)\n",
    "plt.imshow(output, interpolation = 'none')\n",
    "\n",
    "\n",
    "plt.subplot(2,1,2)\n",
    "plt.imshow(target, interpolation = 'none')\n"
   ]
  },
  {
   "cell_type": "code",
   "execution_count": 81,
   "metadata": {},
   "outputs": [
    {
     "data": {
      "image/png": "[encoded data removed]",
      "text/plain": [
       "<Figure size 432x288 with 1 Axes>"
      ]
     },
     "metadata": {
      "needs_background": "light"
     },
     "output_type": "display_data"
    }
   ],
   "source": [
    "fig = plt.figure()\n",
    "\n",
    "plt.plot(train_loss, \"*-\")\n",
    "plt.plot(test_loss, \"*-\")\n",
    "plt.show()"
   ]
  },
  {
   "cell_type": "code",
   "execution_count": null,
   "metadata": {},
   "outputs": [],
   "source": []
  }
 ],
 "metadata": {
  "interpreter": {
   "hash": "713550fe996ccd6bfca49754f8f301cea9aaf39cb14e388a1a9ffc2cf9eed65f"
  },
  "kernelspec": {
   "display_name": "Python 3",
   "language": "python",
   "name": "python3"
  },
  "language_info": {
   "codemirror_mode": {
    "name": "ipython",
    "version": 3
   },
   "file_extension": ".py",
   "mimetype": "text/x-python",
   "name": "python",
   "nbconvert_exporter": "python",
   "pygments_lexer": "ipython3",
   "version": "3.9.5"
  },
  "metadata": {
   "interpreter": {
    "hash": "713550fe996ccd6bfca49754f8f301cea9aaf39cb14e388a1a9ffc2cf9eed65f"
   }
  }
 },
 "nbformat": 4,
 "nbformat_minor": 4
}
